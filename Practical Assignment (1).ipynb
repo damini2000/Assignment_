{
 "cells": [
  {
   "cell_type": "markdown",
   "id": "4e2c843d",
   "metadata": {},
   "source": [
    "# 1. Calculate n-step Transition Probability(Chapman-        Kolmogrov eq.)\n"
   ]
  },
  {
   "cell_type": "markdown",
   "id": "ec3b77ec",
   "metadata": {},
   "source": [
    "Que. 1.1. Consider a finite Markov Chain {Xn,n ≥ 0} with state space S = {1,2} and transition probability\n",
    "matrix(TPM) P1 as given below and initial probability distribution is [α1 = 0.35,α2 = 0.65]. Obtain\n",
    "the following terms.i) P(2)_12  ii) P(4)_11  iii) P(X27 = 1|X17 = 2)  iv) P(X5 = 1) v) P(X8 = 2)"
   ]
  },
  {
   "cell_type": "code",
   "execution_count": 1,
   "id": "158b73c5",
   "metadata": {},
   "outputs": [],
   "source": [
    "import numpy as np\n",
    "import pandas as pd\n",
    "from numpy.linalg import matrix_power"
   ]
  },
  {
   "cell_type": "code",
   "execution_count": 25,
   "id": "f1f22311",
   "metadata": {},
   "outputs": [
    {
     "data": {
      "text/plain": [
       "array([[0.7, 0.3],\n",
       "       [0.4, 0.6]])"
      ]
     },
     "execution_count": 25,
     "metadata": {},
     "output_type": "execute_result"
    }
   ],
   "source": [
    "alpha1=np.array([0.35,0.65])\n",
    "P1=np.array([[0.70,0.3],[0.4,0.6]])\n",
    "P1"
   ]
  },
  {
   "cell_type": "code",
   "execution_count": 27,
   "id": "28982c14",
   "metadata": {},
   "outputs": [
    {
     "data": {
      "text/plain": [
       "0.39"
      ]
     },
     "execution_count": 27,
     "metadata": {},
     "output_type": "execute_result"
    }
   ],
   "source": [
    "#i) P(2)_12\n",
    "P_2=matrix_power(P1,2)\n",
    "P_2[0,1]"
   ]
  },
  {
   "cell_type": "code",
   "execution_count": 4,
   "id": "c2cc32c9",
   "metadata": {},
   "outputs": [
    {
     "data": {
      "text/plain": [
       "0.5748999999999999"
      ]
     },
     "execution_count": 4,
     "metadata": {},
     "output_type": "execute_result"
    }
   ],
   "source": [
    "#ii) P(4)_11\n",
    "P_4=matrix_power(P1,4)\n",
    "P_4[0,0]"
   ]
  },
  {
   "cell_type": "code",
   "execution_count": 5,
   "id": "6de497d9",
   "metadata": {},
   "outputs": [
    {
     "data": {
      "text/plain": [
       "0.5714251971999998"
      ]
     },
     "execution_count": 5,
     "metadata": {},
     "output_type": "execute_result"
    }
   ],
   "source": [
    "#iii) P(X27 = 1|X17 = 2) \n",
    "P_10=matrix_power(P1,10)\n",
    "P_10[1,0]"
   ]
  },
  {
   "cell_type": "code",
   "execution_count": 6,
   "id": "775733ee",
   "metadata": {},
   "outputs": [
    {
     "data": {
      "text/plain": [
       "0.5708904999999999"
      ]
     },
     "execution_count": 6,
     "metadata": {},
     "output_type": "execute_result"
    }
   ],
   "source": [
    "#iv) P(X5 = 1)\n",
    "P_5=matrix_power(P1,5)\n",
    "P_5\n",
    "np.dot(alpha1,P_5)[0]"
   ]
  },
  {
   "cell_type": "code",
   "execution_count": 7,
   "id": "4015525b",
   "metadata": {},
   "outputs": [
    {
     "data": {
      "text/plain": [
       "0.4285859565"
      ]
     },
     "execution_count": 7,
     "metadata": {},
     "output_type": "execute_result"
    }
   ],
   "source": [
    "# v) P(X8 = 2)\n",
    "P_8=matrix_power(P1,8)\n",
    "P_8\n",
    "np.dot(alpha1,P_8)[1]"
   ]
  },
  {
   "cell_type": "markdown",
   "id": "3e4fcf55",
   "metadata": {},
   "source": [
    "Que 1.2. Consider a finite Markov Chain {Xn,n ≥ 0} with state space S = {0,1,2,3} and TPM P2 as given below. Obtain the following terms. i) P(8)11 ii) P(X8 = 2|X3 = 2) iii) P(X4 = 2) iv) P(X6 = 2)where initial probability distribution is [α0,α1,α2,α3] =[0.1,0.2,0.3,0.4] ·"
   ]
  },
  {
   "cell_type": "code",
   "execution_count": 8,
   "id": "03436486",
   "metadata": {},
   "outputs": [
    {
     "data": {
      "text/plain": [
       "array([[0.3, 0.5, 0.1, 0.1],\n",
       "       [0.1, 0.6, 0.1, 0.2],\n",
       "       [0. , 0.5, 0.5, 0. ],\n",
       "       [0. , 0.3, 0.2, 0.5]])"
      ]
     },
     "execution_count": 8,
     "metadata": {},
     "output_type": "execute_result"
    }
   ],
   "source": [
    "alpha2=np.array([0.1,0.2,0.3,0.4] )\n",
    "P2=np.array([[0.3, 0.5, 0.1, 0.1],\n",
    "             [0.1, 0.6, 0.1, 0.2],\n",
    "             [ 0,  0.5, 0.5,  0 ],\n",
    "             [ 0,  0.3, 0.2, 0.5]])\n",
    "P2"
   ]
  },
  {
   "cell_type": "code",
   "execution_count": 9,
   "id": "1246ac70",
   "metadata": {},
   "outputs": [
    {
     "data": {
      "text/plain": [
       "0.5071403400000001"
      ]
     },
     "execution_count": 9,
     "metadata": {},
     "output_type": "execute_result"
    }
   ],
   "source": [
    "#i) P(8)11\n",
    "P_8=matrix_power(P2,8)\n",
    "P_8[1,1]"
   ]
  },
  {
   "cell_type": "code",
   "execution_count": 10,
   "id": "867d526d",
   "metadata": {},
   "outputs": [
    {
     "data": {
      "text/plain": [
       "0.20305"
      ]
     },
     "execution_count": 10,
     "metadata": {},
     "output_type": "execute_result"
    }
   ],
   "source": [
    "#ii) P(X8 = 2|X3 = 2)\n",
    "P_5=matrix_power(P2,5)\n",
    "P_5[2,2]"
   ]
  },
  {
   "cell_type": "code",
   "execution_count": 12,
   "id": "04a54cde",
   "metadata": {},
   "outputs": [
    {
     "data": {
      "text/plain": [
       "0.20673000000000002"
      ]
     },
     "execution_count": 12,
     "metadata": {},
     "output_type": "execute_result"
    }
   ],
   "source": [
    "# iii) P(X4 = 2)\n",
    "P_4=matrix_power(P2,4)\n",
    "P_4\n",
    "np.dot(alpha2,P_4)[2]"
   ]
  },
  {
   "cell_type": "code",
   "execution_count": 13,
   "id": "75d6e983",
   "metadata": {},
   "outputs": [
    {
     "data": {
      "text/plain": [
       "0.20326550000000002"
      ]
     },
     "execution_count": 13,
     "metadata": {},
     "output_type": "execute_result"
    }
   ],
   "source": [
    "#iv) P(X6 = 2)\n",
    "P_6=matrix_power(P2,6)\n",
    "np.dot(alpha2,P_6)[2]"
   ]
  },
  {
   "cell_type": "markdown",
   "id": "32acf264",
   "metadata": {},
   "source": [
    "# 2. Realization of Markov Chain "
   ]
  },
  {
   "cell_type": "markdown",
   "id": "7c117032",
   "metadata": {},
   "source": [
    "Que 2.1. Consider a finite Markov Chain {Xn,n ∈ N} with state space S = {1,2,3,4} and TPM is P1 and initial probabilities are α = [α1,α2,α3,α4] = [0.1,0.2,0.3,0.4]. Generate the above Markov Chain up to n=5. (i.e. Obtain the realization X0,X1,··· ,X5)"
   ]
  },
  {
   "cell_type": "code",
   "execution_count": 14,
   "id": "18a63820",
   "metadata": {},
   "outputs": [
    {
     "data": {
      "text/plain": [
       "array([[0.5, 0.5, 0. , 0. ],\n",
       "       [0. , 0.3, 0.3, 0.5],\n",
       "       [0.2, 0.2, 0.4, 0.2],\n",
       "       [1. , 0. , 0. , 0. ]])"
      ]
     },
     "execution_count": 14,
     "metadata": {},
     "output_type": "execute_result"
    }
   ],
   "source": [
    "P2=np.array([[0.5, 0.5,  0,   0 ],\n",
    "            [ 0,  0.3, 0.3, 0.5],\n",
    "            [0.2, 0.2, 0.4, 0.2],\n",
    "            [ 1,  0,   0,    0 ]])\n",
    "P2"
   ]
  },
  {
   "cell_type": "code",
   "execution_count": 15,
   "id": "62512da5",
   "metadata": {},
   "outputs": [
    {
     "data": {
      "text/plain": [
       "[0.1, 0.2, 0.3, 0.4]"
      ]
     },
     "execution_count": 15,
     "metadata": {},
     "output_type": "execute_result"
    }
   ],
   "source": [
    "a=[0.1,0.2,0.3,0.4]\n",
    "a"
   ]
  },
  {
   "cell_type": "code",
   "execution_count": 16,
   "id": "3505f312",
   "metadata": {},
   "outputs": [
    {
     "data": {
      "text/plain": [
       "[1, 2, 3, 4]"
      ]
     },
     "execution_count": 16,
     "metadata": {},
     "output_type": "execute_result"
    }
   ],
   "source": [
    "s=[1,2,3,4]\n",
    "s\n"
   ]
  },
  {
   "cell_type": "code",
   "execution_count": 17,
   "id": "6c33e6fd",
   "metadata": {},
   "outputs": [
    {
     "data": {
      "text/plain": [
       "array([0, 0, 0, 0, 0])"
      ]
     },
     "execution_count": 17,
     "metadata": {},
     "output_type": "execute_result"
    }
   ],
   "source": [
    "x=np.array([0,0,0,0,0])\n",
    "x"
   ]
  },
  {
   "cell_type": "code",
   "execution_count": 18,
   "id": "2c54cc84",
   "metadata": {},
   "outputs": [],
   "source": [
    "from numpy import random"
   ]
  },
  {
   "cell_type": "code",
   "execution_count": 19,
   "id": "6c85d713",
   "metadata": {},
   "outputs": [
    {
     "name": "stdout",
     "output_type": "stream",
     "text": [
      "Markov chain upto n=5 is [4 4 1 4 4]\n"
     ]
    }
   ],
   "source": [
    "x[0]=np.random.choice(s,p=a)\n",
    "n=[0,1,2,3]\n",
    "for i in n:\n",
    "    x[i+1]=np.random.choice(s,p=a)\n",
    "print('Markov chain upto n=5 is',x)"
   ]
  },
  {
   "cell_type": "markdown",
   "id": "3379d75c",
   "metadata": {},
   "source": [
    "Que 2.2. Consider a finite Markov Chain {Xn,n ∈ N} with state space S = {1,2,3} and transition probability matrix is P2 and initial probabilities are α = [0.3,0.5,0.2] Generate the above Markov Chain up to n = 5."
   ]
  },
  {
   "cell_type": "code",
   "execution_count": 20,
   "id": "c75c7383",
   "metadata": {},
   "outputs": [
    {
     "data": {
      "text/plain": [
       "array([[0.3, 0.2, 0.5],\n",
       "       [0.2, 0.5, 0.3],\n",
       "       [0.3, 0.4, 0.3]])"
      ]
     },
     "execution_count": 20,
     "metadata": {},
     "output_type": "execute_result"
    }
   ],
   "source": [
    "P2=np.array([[0.3,0.2,0.5],\n",
    "             [0.2,0.5,0.3],\n",
    "             [0.3,0.4,0.3]])\n",
    "P2"
   ]
  },
  {
   "cell_type": "code",
   "execution_count": 21,
   "id": "9414efda",
   "metadata": {},
   "outputs": [
    {
     "data": {
      "text/plain": [
       "[0.3, 0.5, 0.2]"
      ]
     },
     "execution_count": 21,
     "metadata": {},
     "output_type": "execute_result"
    }
   ],
   "source": [
    "a1=[0.3,0.5,0.2]\n",
    "a1"
   ]
  },
  {
   "cell_type": "code",
   "execution_count": 22,
   "id": "4fa08492",
   "metadata": {},
   "outputs": [],
   "source": [
    "s1=[1,2,3]\n",
    "x1=np.array([0,0,0,0,0])"
   ]
  },
  {
   "cell_type": "code",
   "execution_count": 23,
   "id": "881df40e",
   "metadata": {},
   "outputs": [
    {
     "name": "stdout",
     "output_type": "stream",
     "text": [
      "Markov chain upto n=5 is [1 0 0 0 0]\n"
     ]
    }
   ],
   "source": [
    "x1[0]=np.random.choice(s1,p=a1)\n",
    "n=[0,1,2,3]\n",
    "for i in n:\n",
    "    x[i+1]=np.random.choice(s1,p=a1)\n",
    "print('Markov chain upto n=5 is',x1)"
   ]
  }
 ],
 "metadata": {
  "kernelspec": {
   "display_name": "Python 3 (ipykernel)",
   "language": "python",
   "name": "python3"
  },
  "language_info": {
   "codemirror_mode": {
    "name": "ipython",
    "version": 3
   },
   "file_extension": ".py",
   "mimetype": "text/x-python",
   "name": "python",
   "nbconvert_exporter": "python",
   "pygments_lexer": "ipython3",
   "version": "3.10.2"
  }
 },
 "nbformat": 4,
 "nbformat_minor": 5
}
